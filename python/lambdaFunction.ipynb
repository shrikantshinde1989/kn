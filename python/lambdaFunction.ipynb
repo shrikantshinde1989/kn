{
 "cells": [
  {
   "cell_type": "markdown",
   "id": "4b2985b4",
   "metadata": {},
   "source": [
    "### Lambda function\n",
    "- Also called as Anonymous Function\n",
    "- A function no name"
   ]
  },
  {
   "cell_type": "code",
   "execution_count": 1,
   "id": "1ccdd988",
   "metadata": {},
   "outputs": [],
   "source": [
    "def addition(a,b):\n",
    "    return a+b"
   ]
  },
  {
   "cell_type": "code",
   "execution_count": 3,
   "id": "e9f18472",
   "metadata": {},
   "outputs": [
    {
     "data": {
      "text/plain": [
       "5"
      ]
     },
     "execution_count": 3,
     "metadata": {},
     "output_type": "execute_result"
    }
   ],
   "source": [
    "addition(2,3)"
   ]
  },
  {
   "cell_type": "code",
   "execution_count": 4,
   "id": "dc900468",
   "metadata": {},
   "outputs": [],
   "source": [
    "# the above function have single expression\n",
    "# when we have single expressio function so convert into lambda function by using lambda keyword\n",
    "\n",
    "addition = lambda a,b:a+b"
   ]
  },
  {
   "cell_type": "code",
   "execution_count": 7,
   "id": "b339092d",
   "metadata": {},
   "outputs": [
    {
     "data": {
      "text/plain": [
       "15"
      ]
     },
     "execution_count": 7,
     "metadata": {},
     "output_type": "execute_result"
    }
   ],
   "source": [
    "addition(12,3)"
   ]
  },
  {
   "cell_type": "code",
   "execution_count": 9,
   "id": "532a188c",
   "metadata": {},
   "outputs": [],
   "source": [
    "def evenno(num):\n",
    "    if num%2 == 0:\n",
    "        return True"
   ]
  },
  {
   "cell_type": "code",
   "execution_count": 13,
   "id": "e1b33d8e",
   "metadata": {},
   "outputs": [
    {
     "data": {
      "text/plain": [
       "True"
      ]
     },
     "execution_count": 13,
     "metadata": {},
     "output_type": "execute_result"
    }
   ],
   "source": [
    "evenno(22)"
   ]
  },
  {
   "cell_type": "code",
   "execution_count": 14,
   "id": "60db824a",
   "metadata": {},
   "outputs": [],
   "source": [
    "even_no = lambda a:a%2==0"
   ]
  },
  {
   "cell_type": "code",
   "execution_count": 15,
   "id": "b9a7f8cd",
   "metadata": {},
   "outputs": [
    {
     "data": {
      "text/plain": [
       "True"
      ]
     },
     "execution_count": 15,
     "metadata": {},
     "output_type": "execute_result"
    }
   ],
   "source": [
    "even_no(20)"
   ]
  },
  {
   "cell_type": "code",
   "execution_count": 17,
   "id": "61c20c0f",
   "metadata": {},
   "outputs": [],
   "source": [
    "def add_three(x,y,z):\n",
    "    return x+y+z"
   ]
  },
  {
   "cell_type": "code",
   "execution_count": 20,
   "id": "d1b10ba9",
   "metadata": {},
   "outputs": [
    {
     "data": {
      "text/plain": [
       "9"
      ]
     },
     "execution_count": 20,
     "metadata": {},
     "output_type": "execute_result"
    }
   ],
   "source": [
    "add_three(2,3,4)"
   ]
  },
  {
   "cell_type": "code",
   "execution_count": 22,
   "id": "e94126ae",
   "metadata": {},
   "outputs": [],
   "source": [
    "addThreeNo = lambda x,y,z:x+y+z"
   ]
  },
  {
   "cell_type": "code",
   "execution_count": 23,
   "id": "dd7eb872",
   "metadata": {},
   "outputs": [
    {
     "data": {
      "text/plain": [
       "24"
      ]
     },
     "execution_count": 23,
     "metadata": {},
     "output_type": "execute_result"
    }
   ],
   "source": [
    "addThreeNo(9,8,7)"
   ]
  }
 ],
 "metadata": {
  "kernelspec": {
   "display_name": "Python 3 (ipykernel)",
   "language": "python",
   "name": "python3"
  },
  "language_info": {
   "codemirror_mode": {
    "name": "ipython",
    "version": 3
   },
   "file_extension": ".py",
   "mimetype": "text/x-python",
   "name": "python",
   "nbconvert_exporter": "python",
   "pygments_lexer": "ipython3",
   "version": "3.10.9"
  }
 },
 "nbformat": 4,
 "nbformat_minor": 5
}
