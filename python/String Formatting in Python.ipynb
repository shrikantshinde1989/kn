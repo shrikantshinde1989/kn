{
 "cells": [
  {
   "cell_type": "markdown",
   "id": "8b57614e",
   "metadata": {},
   "source": [
    "### String formatting in Python"
   ]
  },
  {
   "cell_type": "code",
   "execution_count": 2,
   "id": "103f3bb7",
   "metadata": {},
   "outputs": [
    {
     "name": "stdout",
     "output_type": "stream",
     "text": [
      "Hello Everyone\n"
     ]
    }
   ],
   "source": [
    "print(\"Hello Everyone\")"
   ]
  },
  {
   "cell_type": "code",
   "execution_count": 3,
   "id": "c4162a13",
   "metadata": {},
   "outputs": [],
   "source": [
    "def greeting(name):\n",
    "    return \"Hello {}, Welcome to the community\".format(name)"
   ]
  },
  {
   "cell_type": "code",
   "execution_count": 5,
   "id": "b01b9917",
   "metadata": {},
   "outputs": [
    {
     "data": {
      "text/plain": [
       "'Hello shrikant, Welcome to the community'"
      ]
     },
     "execution_count": 5,
     "metadata": {},
     "output_type": "execute_result"
    }
   ],
   "source": [
    "greeting(\"shrikant\")"
   ]
  },
  {
   "cell_type": "code",
   "execution_count": 6,
   "id": "53e772fa",
   "metadata": {},
   "outputs": [],
   "source": [
    "def welcome_email(firstname,lastname):\n",
    "    return \"Welcome {}, Welcome please {} \".format(firstname,lastname)"
   ]
  },
  {
   "cell_type": "code",
   "execution_count": 8,
   "id": "94cc8cb1",
   "metadata": {},
   "outputs": [
    {
     "data": {
      "text/plain": [
       "'Welcome Shrikant, Welcome please Shinde '"
      ]
     },
     "execution_count": 8,
     "metadata": {},
     "output_type": "execute_result"
    }
   ],
   "source": [
    "welcome_email(\"Shrikant\",\"Shinde\")"
   ]
  },
  {
   "cell_type": "code",
   "execution_count": 9,
   "id": "53da2610",
   "metadata": {},
   "outputs": [],
   "source": [
    "def welcome_DS(name,age):\n",
    "    return \"Welcome {}, And your age is {}\".format(name,age)"
   ]
  },
  {
   "cell_type": "code",
   "execution_count": 11,
   "id": "7c43bedb",
   "metadata": {},
   "outputs": [
    {
     "data": {
      "text/plain": [
       "'Welcome Shrikant, And your age is 33'"
      ]
     },
     "execution_count": 11,
     "metadata": {},
     "output_type": "execute_result"
    }
   ],
   "source": [
    "welcome_DS(\"Shrikant\",33)"
   ]
  },
  {
   "cell_type": "code",
   "execution_count": 13,
   "id": "3bd34049",
   "metadata": {},
   "outputs": [],
   "source": [
    "def welcome_temp(name,age):\n",
    "    return \"Welcome {n} Your age is {a}\".format(a=age,n=name)"
   ]
  },
  {
   "cell_type": "code",
   "execution_count": 17,
   "id": "841c1059",
   "metadata": {},
   "outputs": [
    {
     "data": {
      "text/plain": [
       "'Welcome 33 Your age is we'"
      ]
     },
     "execution_count": 17,
     "metadata": {},
     "output_type": "execute_result"
    }
   ],
   "source": [
    "welcome_temp('Shrikant',33)\n",
    "welcome_temp(33,'we')"
   ]
  }
 ],
 "metadata": {
  "kernelspec": {
   "display_name": "Python 3 (ipykernel)",
   "language": "python",
   "name": "python3"
  },
  "language_info": {
   "codemirror_mode": {
    "name": "ipython",
    "version": 3
   },
   "file_extension": ".py",
   "mimetype": "text/x-python",
   "name": "python",
   "nbconvert_exporter": "python",
   "pygments_lexer": "ipython3",
   "version": "3.10.9"
  }
 },
 "nbformat": 4,
 "nbformat_minor": 5
}
