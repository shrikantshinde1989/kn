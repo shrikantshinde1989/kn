{
 "cells": [
  {
   "cell_type": "markdown",
   "id": "d2898504",
   "metadata": {},
   "source": [
    "## Function In Python\n",
    "\n",
    "    - Why Function\n",
    "    - Function Defination\n",
    "    - Positional and Keyword arguments in function"
   ]
  },
  {
   "cell_type": "code",
   "execution_count": 1,
   "id": "9f4a2c36",
   "metadata": {},
   "outputs": [
    {
     "name": "stdout",
     "output_type": "stream",
     "text": [
      "The Number is Even\n"
     ]
    }
   ],
   "source": [
    "num = 24\n",
    "if num%2==0:\n",
    "    print(\"The Number is Even\")\n",
    "else:\n",
    "    print(\"odd\")"
   ]
  },
  {
   "cell_type": "code",
   "execution_count": 2,
   "id": "44611e1c",
   "metadata": {},
   "outputs": [],
   "source": [
    "# Defination of function\n",
    "\n",
    "def even_odd(num):\n",
    "    if num%2==0:\n",
    "        print(\"The Number is Even\")\n",
    "    else:\n",
    "        print(\"odd\")"
   ]
  },
  {
   "cell_type": "code",
   "execution_count": 3,
   "id": "36e6a0a1",
   "metadata": {},
   "outputs": [
    {
     "name": "stdout",
     "output_type": "stream",
     "text": [
      "The Number is Even\n"
     ]
    }
   ],
   "source": [
    "#calling function \n",
    "even_odd(24)"
   ]
  },
  {
   "cell_type": "code",
   "execution_count": 4,
   "id": "8ec54767",
   "metadata": {},
   "outputs": [],
   "source": [
    "## Positional and Keyword Argument \n"
   ]
  },
  {
   "cell_type": "code",
   "execution_count": 5,
   "id": "a668535f",
   "metadata": {},
   "outputs": [],
   "source": [
    "# print vs return\n",
    "\n",
    "def hello_world():\n",
    "    print(\"hello world and welcome\")"
   ]
  },
  {
   "cell_type": "code",
   "execution_count": 6,
   "id": "ac43ce30",
   "metadata": {},
   "outputs": [
    {
     "name": "stdout",
     "output_type": "stream",
     "text": [
      "hello world and welcome\n"
     ]
    }
   ],
   "source": [
    "val = hello_world()"
   ]
  },
  {
   "cell_type": "code",
   "execution_count": 7,
   "id": "e5bab407",
   "metadata": {},
   "outputs": [
    {
     "name": "stdout",
     "output_type": "stream",
     "text": [
      "None\n"
     ]
    }
   ],
   "source": [
    "print(val)"
   ]
  },
  {
   "cell_type": "code",
   "execution_count": 8,
   "id": "813f5458",
   "metadata": {},
   "outputs": [],
   "source": [
    "def hello_world():\n",
    "    return \"hello world and welcome\""
   ]
  },
  {
   "cell_type": "code",
   "execution_count": 9,
   "id": "b5957986",
   "metadata": {},
   "outputs": [],
   "source": [
    "val = hello_world()"
   ]
  },
  {
   "cell_type": "code",
   "execution_count": 10,
   "id": "af05a82d",
   "metadata": {},
   "outputs": [
    {
     "name": "stdout",
     "output_type": "stream",
     "text": [
      "hello world and welcome\n"
     ]
    }
   ],
   "source": [
    "print(val)"
   ]
  },
  {
   "cell_type": "code",
   "execution_count": 11,
   "id": "4441c2db",
   "metadata": {},
   "outputs": [],
   "source": [
    "# addition of two number\n",
    "\n",
    "def add_number(num1,num2):\n",
    "    return num1+num2"
   ]
  },
  {
   "cell_type": "code",
   "execution_count": 12,
   "id": "4fe38779",
   "metadata": {},
   "outputs": [],
   "source": [
    "val = add_number(20,20)"
   ]
  },
  {
   "cell_type": "code",
   "execution_count": 13,
   "id": "14fadaf1",
   "metadata": {},
   "outputs": [
    {
     "name": "stdout",
     "output_type": "stream",
     "text": [
      "40\n"
     ]
    }
   ],
   "source": [
    "print(val)"
   ]
  },
  {
   "cell_type": "code",
   "execution_count": 14,
   "id": "106a4e1e",
   "metadata": {},
   "outputs": [],
   "source": [
    "#Positional Argument and Keyword Argument\n",
    "\n",
    "def hello(name,age=29):\n",
    "    print(\"My name is {} and Age is {}\".format(name,age))"
   ]
  },
  {
   "cell_type": "code",
   "execution_count": 15,
   "id": "5e8ab83a",
   "metadata": {},
   "outputs": [
    {
     "name": "stdout",
     "output_type": "stream",
     "text": [
      "My name is shrikant and Age is 29\n"
     ]
    }
   ],
   "source": [
    "hello('shrikant')"
   ]
  },
  {
   "cell_type": "code",
   "execution_count": 16,
   "id": "bf11b524",
   "metadata": {},
   "outputs": [
    {
     "ename": "TypeError",
     "evalue": "hello() missing 1 required positional argument: 'name'",
     "output_type": "error",
     "traceback": [
      "\u001b[1;31m---------------------------------------------------------------------------\u001b[0m",
      "\u001b[1;31mTypeError\u001b[0m                                 Traceback (most recent call last)",
      "Cell \u001b[1;32mIn[16], line 1\u001b[0m\n\u001b[1;32m----> 1\u001b[0m \u001b[43mhello\u001b[49m\u001b[43m(\u001b[49m\u001b[43m)\u001b[49m\n",
      "\u001b[1;31mTypeError\u001b[0m: hello() missing 1 required positional argument: 'name'"
     ]
    }
   ],
   "source": [
    "hello()"
   ]
  },
  {
   "cell_type": "code",
   "execution_count": null,
   "id": "b96c2def",
   "metadata": {},
   "outputs": [],
   "source": [
    "def hello(*args,**kwargs):\n",
    "    print(args)\n",
    "    print(kwargs)"
   ]
  },
  {
   "cell_type": "code",
   "execution_count": null,
   "id": "26b9ce48",
   "metadata": {},
   "outputs": [],
   "source": [
    "hello('shrikant','shinde',age=33,dob=1989)"
   ]
  },
  {
   "cell_type": "code",
   "execution_count": null,
   "id": "f540c159",
   "metadata": {},
   "outputs": [],
   "source": [
    "lst=['shrikant', 'shinde']\n",
    "dict_args = {'age': 33, 'dob': 1989}"
   ]
  },
  {
   "cell_type": "code",
   "execution_count": null,
   "id": "c07a438d",
   "metadata": {},
   "outputs": [],
   "source": [
    "hello(lst,dict_args)"
   ]
  },
  {
   "cell_type": "code",
   "execution_count": null,
   "id": "3deb50bd",
   "metadata": {},
   "outputs": [],
   "source": [
    "hello(*lst,**dict_args)"
   ]
  },
  {
   "cell_type": "code",
   "execution_count": 17,
   "id": "c9545563",
   "metadata": {},
   "outputs": [],
   "source": [
    "# to return two different values from the functions\n",
    "\n",
    "lst=[1,2,3,4,5,6,7,8,9]\n",
    "\n",
    "def evenoddsum(lst):\n",
    "    even_sum = 0\n",
    "    odd_sum = 0\n",
    "    for i in lst:\n",
    "        if i%2==0:\n",
    "            even_sum=even_sum+i\n",
    "        else:\n",
    "            odd_sum=odd_sum+i\n",
    "    return even_sum,odd_sum"
   ]
  },
  {
   "cell_type": "code",
   "execution_count": 18,
   "id": "a3fedfa3",
   "metadata": {},
   "outputs": [
    {
     "data": {
      "text/plain": [
       "(20, 25)"
      ]
     },
     "execution_count": 18,
     "metadata": {},
     "output_type": "execute_result"
    }
   ],
   "source": [
    "evenoddsum(lst)# toreturn multiple parameter from the particular function"
   ]
  },
  {
   "cell_type": "code",
   "execution_count": 19,
   "id": "665d7027",
   "metadata": {},
   "outputs": [],
   "source": [
    "def welcome()->str:\n",
    "    return \"Please consider my application1\""
   ]
  },
  {
   "cell_type": "code",
   "execution_count": 20,
   "id": "2e812181",
   "metadata": {},
   "outputs": [
    {
     "name": "stdout",
     "output_type": "stream",
     "text": [
      "Please consider my application1\n"
     ]
    }
   ],
   "source": [
    "a = welcome()\n",
    "print(a)"
   ]
  }
 ],
 "metadata": {
  "kernelspec": {
   "display_name": "Python 3 (ipykernel)",
   "language": "python",
   "name": "python3"
  },
  "language_info": {
   "codemirror_mode": {
    "name": "ipython",
    "version": 3
   },
   "file_extension": ".py",
   "mimetype": "text/x-python",
   "name": "python",
   "nbconvert_exporter": "python",
   "pygments_lexer": "ipython3",
   "version": "3.10.9"
  }
 },
 "nbformat": 4,
 "nbformat_minor": 5
}
