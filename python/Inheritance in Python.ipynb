{
 "cells": [
  {
   "cell_type": "markdown",
   "id": "f2ecbba2",
   "metadata": {},
   "source": [
    "## Inheritance in python"
   ]
  },
  {
   "cell_type": "code",
   "execution_count": 34,
   "id": "0f170511",
   "metadata": {},
   "outputs": [],
   "source": [
    "## All the class variables are public\n",
    "## Car blueprint\n",
    "class Car:\n",
    "    def __init__(self,windows,doors,engineType):\n",
    "        self.windows = windows\n",
    "        self.doors = doors\n",
    "        self.engineType = engineType\n",
    "    def drive(self):\n",
    "        print(\"The person drives the car\")"
   ]
  },
  {
   "cell_type": "code",
   "execution_count": 35,
   "id": "8a0b327a",
   "metadata": {},
   "outputs": [],
   "source": [
    "car = Car(4,4,'Petrol')"
   ]
  },
  {
   "cell_type": "code",
   "execution_count": 36,
   "id": "d745a59a",
   "metadata": {},
   "outputs": [
    {
     "data": {
      "text/plain": [
       "'Petrol'"
      ]
     },
     "execution_count": 36,
     "metadata": {},
     "output_type": "execute_result"
    }
   ],
   "source": [
    "car.engineType"
   ]
  },
  {
   "cell_type": "code",
   "execution_count": 20,
   "id": "cdf0ef4f",
   "metadata": {},
   "outputs": [
    {
     "name": "stdout",
     "output_type": "stream",
     "text": [
      "The person drives the car\n"
     ]
    }
   ],
   "source": [
    "car.drive()"
   ]
  },
  {
   "cell_type": "code",
   "execution_count": 38,
   "id": "02dbc3bb",
   "metadata": {},
   "outputs": [
    {
     "data": {
      "text/plain": [
       "['__class__',\n",
       " '__delattr__',\n",
       " '__dict__',\n",
       " '__dir__',\n",
       " '__doc__',\n",
       " '__eq__',\n",
       " '__format__',\n",
       " '__ge__',\n",
       " '__getattribute__',\n",
       " '__gt__',\n",
       " '__hash__',\n",
       " '__init__',\n",
       " '__init_subclass__',\n",
       " '__le__',\n",
       " '__lt__',\n",
       " '__module__',\n",
       " '__ne__',\n",
       " '__new__',\n",
       " '__reduce__',\n",
       " '__reduce_ex__',\n",
       " '__repr__',\n",
       " '__setattr__',\n",
       " '__sizeof__',\n",
       " '__str__',\n",
       " '__subclasshook__',\n",
       " '__weakref__',\n",
       " 'doors',\n",
       " 'drive',\n",
       " 'engineType',\n",
       " 'windows']"
      ]
     },
     "execution_count": 38,
     "metadata": {},
     "output_type": "execute_result"
    }
   ],
   "source": [
    "dir(car)"
   ]
  },
  {
   "cell_type": "markdown",
   "id": "235b1635",
   "metadata": {},
   "source": [
    "## Single level inheritance"
   ]
  },
  {
   "cell_type": "code",
   "execution_count": 21,
   "id": "f78710e2",
   "metadata": {},
   "outputs": [],
   "source": [
    "class Audi(Car):\n",
    "    def __init__(self,windows,doors,engineType,enabledAI):\n",
    "        super().__init__(windows,doors,engineType)\n",
    "        self.enabledAI = enabledAI\n",
    "    def selfDrive(self):\n",
    "        print(\"Self Drive Featured in Audi Car\")"
   ]
  },
  {
   "cell_type": "code",
   "execution_count": 26,
   "id": "6d3be032",
   "metadata": {},
   "outputs": [],
   "source": [
    "audiQ7 = Audi(6,5,'Petrol',True)"
   ]
  },
  {
   "cell_type": "code",
   "execution_count": 27,
   "id": "ea43d22b",
   "metadata": {},
   "outputs": [
    {
     "data": {
      "text/plain": [
       "6"
      ]
     },
     "execution_count": 27,
     "metadata": {},
     "output_type": "execute_result"
    }
   ],
   "source": [
    "audiQ7.windows"
   ]
  },
  {
   "cell_type": "code",
   "execution_count": 28,
   "id": "9987c6f1",
   "metadata": {},
   "outputs": [
    {
     "name": "stdout",
     "output_type": "stream",
     "text": [
      "Self Drive Featured in Audi Car\n"
     ]
    }
   ],
   "source": [
    "audiQ7.selfDrive()"
   ]
  },
  {
   "cell_type": "code",
   "execution_count": 30,
   "id": "aee498c5",
   "metadata": {},
   "outputs": [
    {
     "data": {
      "text/plain": [
       "bool"
      ]
     },
     "execution_count": 30,
     "metadata": {},
     "output_type": "execute_result"
    }
   ],
   "source": [
    "type(audiQ7.enabledAI)"
   ]
  },
  {
   "cell_type": "code",
   "execution_count": 31,
   "id": "e46b1681",
   "metadata": {},
   "outputs": [
    {
     "name": "stdout",
     "output_type": "stream",
     "text": [
      "The person drives the car\n"
     ]
    }
   ],
   "source": [
    "audiQ7.drive()"
   ]
  },
  {
   "cell_type": "code",
   "execution_count": 39,
   "id": "30a74510",
   "metadata": {},
   "outputs": [
    {
     "data": {
      "text/plain": [
       "['__class__',\n",
       " '__delattr__',\n",
       " '__dict__',\n",
       " '__dir__',\n",
       " '__doc__',\n",
       " '__eq__',\n",
       " '__format__',\n",
       " '__ge__',\n",
       " '__getattribute__',\n",
       " '__gt__',\n",
       " '__hash__',\n",
       " '__init__',\n",
       " '__init_subclass__',\n",
       " '__le__',\n",
       " '__lt__',\n",
       " '__module__',\n",
       " '__ne__',\n",
       " '__new__',\n",
       " '__reduce__',\n",
       " '__reduce_ex__',\n",
       " '__repr__',\n",
       " '__setattr__',\n",
       " '__sizeof__',\n",
       " '__str__',\n",
       " '__subclasshook__',\n",
       " '__weakref__',\n",
       " 'doors',\n",
       " 'drive',\n",
       " 'enabledAI',\n",
       " 'engineType',\n",
       " 'selfDrive',\n",
       " 'windows']"
      ]
     },
     "execution_count": 39,
     "metadata": {},
     "output_type": "execute_result"
    }
   ],
   "source": [
    "dir(audiQ7)"
   ]
  },
  {
   "cell_type": "code",
   "execution_count": null,
   "id": "a18913ea",
   "metadata": {},
   "outputs": [],
   "source": []
  }
 ],
 "metadata": {
  "kernelspec": {
   "display_name": "Python 3 (ipykernel)",
   "language": "python",
   "name": "python3"
  },
  "language_info": {
   "codemirror_mode": {
    "name": "ipython",
    "version": 3
   },
   "file_extension": ".py",
   "mimetype": "text/x-python",
   "name": "python",
   "nbconvert_exporter": "python",
   "pygments_lexer": "ipython3",
   "version": "3.10.9"
  }
 },
 "nbformat": 4,
 "nbformat_minor": 5
}
