{
 "cells": [
  {
   "cell_type": "markdown",
   "id": "7b1c8268",
   "metadata": {},
   "source": [
    "### OOPS Tutorial in Python"
   ]
  },
  {
   "cell_type": "code",
   "execution_count": 2,
   "id": "38bc8474",
   "metadata": {},
   "outputs": [],
   "source": [
    "class Car:\n",
    "    pass"
   ]
  },
  {
   "cell_type": "code",
   "execution_count": 4,
   "id": "48c08eb7",
   "metadata": {},
   "outputs": [],
   "source": [
    "car1 = Car()"
   ]
  },
  {
   "cell_type": "code",
   "execution_count": 8,
   "id": "6cbf06c4",
   "metadata": {},
   "outputs": [],
   "source": [
    "car1.type='Automatic'"
   ]
  },
  {
   "cell_type": "code",
   "execution_count": 9,
   "id": "d4782946",
   "metadata": {},
   "outputs": [
    {
     "name": "stdout",
     "output_type": "stream",
     "text": [
      "<__main__.Car object at 0x00000263F169FAC0>\n"
     ]
    }
   ],
   "source": [
    "print(car1)"
   ]
  },
  {
   "cell_type": "code",
   "execution_count": 10,
   "id": "368863e8",
   "metadata": {},
   "outputs": [
    {
     "name": "stdout",
     "output_type": "stream",
     "text": [
      "Automatic\n"
     ]
    }
   ],
   "source": [
    "print(car1.type)"
   ]
  },
  {
   "cell_type": "code",
   "execution_count": 11,
   "id": "c3c767bb",
   "metadata": {},
   "outputs": [],
   "source": [
    "car1.doors=4"
   ]
  },
  {
   "cell_type": "code",
   "execution_count": 13,
   "id": "a10e75ec",
   "metadata": {},
   "outputs": [
    {
     "name": "stdout",
     "output_type": "stream",
     "text": [
      "4\n"
     ]
    }
   ],
   "source": [
    "print(car1.doors)"
   ]
  },
  {
   "cell_type": "code",
   "execution_count": 14,
   "id": "93c7912c",
   "metadata": {},
   "outputs": [],
   "source": [
    "car2 = Car()\n",
    "car2.type='Manual'\n",
    "car2.doors=2"
   ]
  },
  {
   "cell_type": "code",
   "execution_count": 16,
   "id": "de5c2629",
   "metadata": {},
   "outputs": [
    {
     "name": "stdout",
     "output_type": "stream",
     "text": [
      "Manual\n",
      "2\n"
     ]
    }
   ],
   "source": [
    "print(car2.type)\n",
    "print(car2.doors)"
   ]
  },
  {
   "cell_type": "code",
   "execution_count": 36,
   "id": "1b666044",
   "metadata": {},
   "outputs": [],
   "source": [
    "### Proper Class Definatin in python\n",
    "\n",
    "class Car:\n",
    "    def __init__(self,doors,car_type):\n",
    "        self.doors = doors\n",
    "        self.car_types = car_type\n",
    "    def self_driving(self):\n",
    "        return \"This is a {} Car\".format(self.car_types)"
   ]
  },
  {
   "cell_type": "code",
   "execution_count": 37,
   "id": "07086d74",
   "metadata": {},
   "outputs": [],
   "source": [
    "car1 = Car(4,'Petrol')"
   ]
  },
  {
   "cell_type": "code",
   "execution_count": 38,
   "id": "2b5827e5",
   "metadata": {},
   "outputs": [
    {
     "name": "stdout",
     "output_type": "stream",
     "text": [
      "4\n"
     ]
    }
   ],
   "source": [
    "print(car1.doors)"
   ]
  },
  {
   "cell_type": "code",
   "execution_count": 39,
   "id": "a1fc09bc",
   "metadata": {},
   "outputs": [],
   "source": [
    "car2 = Car(2,\"Disel\")"
   ]
  },
  {
   "cell_type": "code",
   "execution_count": 40,
   "id": "4e1c42ca",
   "metadata": {},
   "outputs": [
    {
     "name": "stdout",
     "output_type": "stream",
     "text": [
      "Disel\n"
     ]
    }
   ],
   "source": [
    "print(car2.car_types)"
   ]
  },
  {
   "cell_type": "code",
   "execution_count": 41,
   "id": "4db79102",
   "metadata": {},
   "outputs": [
    {
     "data": {
      "text/plain": [
       "'This is a Disel Car'"
      ]
     },
     "execution_count": 41,
     "metadata": {},
     "output_type": "execute_result"
    }
   ],
   "source": [
    "## Call function which was created at car class \n",
    "car2.self_driving()"
   ]
  },
  {
   "cell_type": "code",
   "execution_count": null,
   "id": "aca59ac5",
   "metadata": {},
   "outputs": [],
   "source": []
  }
 ],
 "metadata": {
  "kernelspec": {
   "display_name": "Python 3 (ipykernel)",
   "language": "python",
   "name": "python3"
  },
  "language_info": {
   "codemirror_mode": {
    "name": "ipython",
    "version": 3
   },
   "file_extension": ".py",
   "mimetype": "text/x-python",
   "name": "python",
   "nbconvert_exporter": "python",
   "pygments_lexer": "ipython3",
   "version": "3.10.9"
  }
 },
 "nbformat": 4,
 "nbformat_minor": 5
}
