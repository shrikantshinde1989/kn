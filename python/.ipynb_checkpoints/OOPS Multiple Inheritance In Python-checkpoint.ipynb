{
 "cells": [
  {
   "cell_type": "markdown",
   "id": "db3e887a",
   "metadata": {},
   "source": [
    "### Multiple Inheritance in Python"
   ]
  },
  {
   "cell_type": "code",
   "execution_count": 14,
   "id": "7854f197",
   "metadata": {},
   "outputs": [],
   "source": [
    "class A:\n",
    "    def method1(self):\n",
    "        print(\"Class A method1 is called\")"
   ]
  },
  {
   "cell_type": "code",
   "execution_count": 15,
   "id": "531337c5",
   "metadata": {},
   "outputs": [],
   "source": [
    "class B(A):\n",
    "    def method1(self):\n",
    "        print(\"Class B method1 is called\")"
   ]
  },
  {
   "cell_type": "code",
   "execution_count": 16,
   "id": "fa87f57f",
   "metadata": {},
   "outputs": [],
   "source": [
    "class C(A):\n",
    "    def method1(self):\n",
    "        print(\"Class C method1 is called\")"
   ]
  },
  {
   "cell_type": "code",
   "execution_count": 29,
   "id": "a3908d2a",
   "metadata": {},
   "outputs": [],
   "source": [
    "class D(B,C):\n",
    "    def method1(self):\n",
    "        print(\"Class D method1 is called\")\n",
    "        C.method1(self)\n",
    "        B.method1(self)\n",
    "        A.method1(self)"
   ]
  },
  {
   "cell_type": "code",
   "execution_count": 30,
   "id": "8b622be4",
   "metadata": {},
   "outputs": [],
   "source": [
    "d = D()"
   ]
  },
  {
   "cell_type": "code",
   "execution_count": 31,
   "id": "35b286b8",
   "metadata": {},
   "outputs": [
    {
     "name": "stdout",
     "output_type": "stream",
     "text": [
      "Class D method1 is called\n",
      "Class C method1 is called\n",
      "Class B method1 is called\n",
      "Class A method1 is called\n"
     ]
    }
   ],
   "source": [
    "d.method1()"
   ]
  },
  {
   "cell_type": "code",
   "execution_count": 20,
   "id": "a05c3116",
   "metadata": {},
   "outputs": [
    {
     "name": "stdout",
     "output_type": "stream",
     "text": [
      "Class B method1 is called\n"
     ]
    }
   ],
   "source": [
    "B.method1(d)"
   ]
  },
  {
   "cell_type": "code",
   "execution_count": null,
   "id": "80cad127",
   "metadata": {},
   "outputs": [],
   "source": []
  }
 ],
 "metadata": {
  "kernelspec": {
   "display_name": "Python 3 (ipykernel)",
   "language": "python",
   "name": "python3"
  },
  "language_info": {
   "codemirror_mode": {
    "name": "ipython",
    "version": 3
   },
   "file_extension": ".py",
   "mimetype": "text/x-python",
   "name": "python",
   "nbconvert_exporter": "python",
   "pygments_lexer": "ipython3",
   "version": "3.10.9"
  }
 },
 "nbformat": 4,
 "nbformat_minor": 5
}
