{
 "cells": [
  {
   "cell_type": "markdown",
   "id": "6b536f79",
   "metadata": {},
   "source": [
    "### Public ,Private and Protected"
   ]
  },
  {
   "cell_type": "code",
   "execution_count": 1,
   "id": "1a77fbb0",
   "metadata": {},
   "outputs": [],
   "source": [
    "# All the class varibles are public\n",
    "class Car:\n",
    "    def __init__(self,windows,doors,engineType):\n",
    "        self.windows=windows\n",
    "        self.doors=doors\n",
    "        self.engineType=engineType"
   ]
  },
  {
   "cell_type": "code",
   "execution_count": 2,
   "id": "95105fd8",
   "metadata": {},
   "outputs": [],
   "source": [
    "audi = Car(4,5,'Diesel')"
   ]
  },
  {
   "cell_type": "code",
   "execution_count": 3,
   "id": "52cfa446",
   "metadata": {},
   "outputs": [
    {
     "data": {
      "text/plain": [
       "5"
      ]
     },
     "execution_count": 3,
     "metadata": {},
     "output_type": "execute_result"
    }
   ],
   "source": [
    "audi.doors"
   ]
  },
  {
   "cell_type": "code",
   "execution_count": 4,
   "id": "0cd027f2",
   "metadata": {},
   "outputs": [],
   "source": [
    "# we can overwrite on instance variable\n",
    "audi.doors=6"
   ]
  },
  {
   "cell_type": "code",
   "execution_count": 5,
   "id": "a0f2923e",
   "metadata": {},
   "outputs": [
    {
     "data": {
      "text/plain": [
       "6"
      ]
     },
     "execution_count": 5,
     "metadata": {},
     "output_type": "execute_result"
    }
   ],
   "source": [
    "audi.doors"
   ]
  },
  {
   "cell_type": "code",
   "execution_count": 11,
   "id": "af011d29",
   "metadata": {},
   "outputs": [],
   "source": [
    "#All the class variables are protected\n",
    "\n",
    "class Car:\n",
    "    def __init__(self,windows,doors,engineType):\n",
    "        self._windows = windows\n",
    "        self._doors = doors\n",
    "        self._engineType = engineType"
   ]
  },
  {
   "cell_type": "code",
   "execution_count": 12,
   "id": "a1ad966d",
   "metadata": {},
   "outputs": [],
   "source": [
    "audi1 = Car(2,3,'Petrol')"
   ]
  },
  {
   "cell_type": "code",
   "execution_count": 13,
   "id": "e07f7a52",
   "metadata": {},
   "outputs": [
    {
     "ename": "AttributeError",
     "evalue": "'Car' object has no attribute 'doors'",
     "output_type": "error",
     "traceback": [
      "\u001b[1;31m---------------------------------------------------------------------------\u001b[0m",
      "\u001b[1;31mAttributeError\u001b[0m                            Traceback (most recent call last)",
      "Cell \u001b[1;32mIn[13], line 1\u001b[0m\n\u001b[1;32m----> 1\u001b[0m \u001b[43maudi1\u001b[49m\u001b[38;5;241;43m.\u001b[39;49m\u001b[43mdoors\u001b[49m\n",
      "\u001b[1;31mAttributeError\u001b[0m: 'Car' object has no attribute 'doors'"
     ]
    }
   ],
   "source": [
    "audi1.doors"
   ]
  },
  {
   "cell_type": "code",
   "execution_count": 8,
   "id": "bb0b7e39",
   "metadata": {},
   "outputs": [
    {
     "data": {
      "text/plain": [
       "['__class__',\n",
       " '__delattr__',\n",
       " '__dict__',\n",
       " '__dir__',\n",
       " '__doc__',\n",
       " '__eq__',\n",
       " '__format__',\n",
       " '__ge__',\n",
       " '__getattribute__',\n",
       " '__gt__',\n",
       " '__hash__',\n",
       " '__init__',\n",
       " '__init_subclass__',\n",
       " '__le__',\n",
       " '__lt__',\n",
       " '__module__',\n",
       " '__ne__',\n",
       " '__new__',\n",
       " '__reduce__',\n",
       " '__reduce_ex__',\n",
       " '__repr__',\n",
       " '__setattr__',\n",
       " '__sizeof__',\n",
       " '__str__',\n",
       " '__subclasshook__',\n",
       " '__weakref__',\n",
       " '_doors',\n",
       " '_engineType',\n",
       " '_windows']"
      ]
     },
     "execution_count": 8,
     "metadata": {},
     "output_type": "execute_result"
    }
   ],
   "source": [
    "dir(audi1)"
   ]
  },
  {
   "cell_type": "code",
   "execution_count": 14,
   "id": "7c44b95d",
   "metadata": {},
   "outputs": [],
   "source": [
    "class Truck(Car):\n",
    "    def __init__(self,windows,doors,engineType,power):\n",
    "        super().__init__(windows,doors,engineType)\n",
    "        self.power = power"
   ]
  },
  {
   "cell_type": "code",
   "execution_count": 15,
   "id": "f2ea0517",
   "metadata": {},
   "outputs": [],
   "source": [
    "truck = Truck(4,4,\"Diesel\",4000)"
   ]
  },
  {
   "cell_type": "raw",
   "id": "1a46dc3d",
   "metadata": {},
   "source": [
    "dir(truck)"
   ]
  },
  {
   "cell_type": "code",
   "execution_count": null,
   "id": "fb925400",
   "metadata": {},
   "outputs": [],
   "source": []
  }
 ],
 "metadata": {
  "kernelspec": {
   "display_name": "Python 3 (ipykernel)",
   "language": "python",
   "name": "python3"
  },
  "language_info": {
   "codemirror_mode": {
    "name": "ipython",
    "version": 3
   },
   "file_extension": ".py",
   "mimetype": "text/x-python",
   "name": "python",
   "nbconvert_exporter": "python",
   "pygments_lexer": "ipython3",
   "version": "3.10.9"
  }
 },
 "nbformat": 4,
 "nbformat_minor": 5
}
