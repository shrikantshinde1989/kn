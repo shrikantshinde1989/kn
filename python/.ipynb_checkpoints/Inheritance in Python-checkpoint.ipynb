{
 "cells": [
  {
   "cell_type": "markdown",
   "id": "8b8f6aa8",
   "metadata": {},
   "source": [
    "## Inheritance in python"
   ]
  },
  {
   "cell_type": "code",
   "execution_count": 3,
   "id": "13e13e73",
   "metadata": {},
   "outputs": [],
   "source": [
    "## All the class variables are public\n",
    "## Car blueprint\n",
    "class Car:\n",
    "    def __init__(self,windows,doors,engineType):\n",
    "        self.windows = windows\n",
    "        self.doors = doors\n",
    "        self.engineType = engineType\n",
    "    def drive(self):\n",
    "        print(\"The person drives the car\")"
   ]
  },
  {
   "cell_type": "code",
   "execution_count": null,
   "id": "77da1e5b",
   "metadata": {},
   "outputs": [],
   "source": []
  }
 ],
 "metadata": {
  "kernelspec": {
   "display_name": "Python 3 (ipykernel)",
   "language": "python",
   "name": "python3"
  },
  "language_info": {
   "codemirror_mode": {
    "name": "ipython",
    "version": 3
   },
   "file_extension": ".py",
   "mimetype": "text/x-python",
   "name": "python",
   "nbconvert_exporter": "python",
   "pygments_lexer": "ipython3",
   "version": "3.10.9"
  }
 },
 "nbformat": 4,
 "nbformat_minor": 5
}
