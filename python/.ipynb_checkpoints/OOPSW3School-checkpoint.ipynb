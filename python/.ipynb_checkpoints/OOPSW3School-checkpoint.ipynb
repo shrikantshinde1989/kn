{
 "cells": [
  {
   "cell_type": "code",
   "execution_count": 1,
   "id": "c87aef6e",
   "metadata": {},
   "outputs": [
    {
     "name": "stdout",
     "output_type": "stream",
     "text": [
      "Hello\n"
     ]
    }
   ],
   "source": [
    "class Person:\n",
    "    print('Hello')"
   ]
  },
  {
   "cell_type": "code",
   "execution_count": 2,
   "id": "9ff2021a",
   "metadata": {},
   "outputs": [
    {
     "name": "stdout",
     "output_type": "stream",
     "text": [
      "Amit\n"
     ]
    }
   ],
   "source": [
    "class Person:\n",
    "    def __init__(self,name,age):\n",
    "        self.name = name\n",
    "        self.ahe = age\n",
    "x = Person('Amit',23)\n",
    "print(x.name)"
   ]
  },
  {
   "cell_type": "code",
   "execution_count": 4,
   "id": "9f21a5f4",
   "metadata": {},
   "outputs": [
    {
     "name": "stdout",
     "output_type": "stream",
     "text": [
      "Name of the person:- Nomal\n",
      "Age of the person:- 33\n"
     ]
    }
   ],
   "source": [
    "class Person:\n",
    "    def __init__(self,name,age):\n",
    "        self.name = name\n",
    "        self.age = age\n",
    "    def display(self):\n",
    "        print(\"Name of the person:-\",self.name)\n",
    "        print(\"Age of the person:-\",self.age)\n",
    "x = Person(\"Nomal\",33)\n",
    "x.display()"
   ]
  },
  {
   "cell_type": "code",
   "execution_count": 17,
   "id": "fe213e9f",
   "metadata": {},
   "outputs": [
    {
     "name": "stdout",
     "output_type": "stream",
     "text": [
      "<__main__.Person object at 0x0000019C32226110>\n"
     ]
    }
   ],
   "source": [
    "class Person:\n",
    "    def __init__(self,fname,lname):\n",
    "        self.fname = fname\n",
    "        self.lname = lname\n",
    "        \n",
    "p1 = Person(\"Aniket\",\"Patil\")\n",
    "print(p1)"
   ]
  },
  {
   "cell_type": "code",
   "execution_count": 18,
   "id": "6a8df297",
   "metadata": {},
   "outputs": [
    {
     "name": "stdout",
     "output_type": "stream",
     "text": [
      "Aniket(Patil)\n"
     ]
    }
   ],
   "source": [
    "class Person:\n",
    "    def __init__(self,fname,lname):\n",
    "        self.fname = fname\n",
    "        self.lname = lname\n",
    "    def __str__(self):\n",
    "        return f\"{self.fname}({self.lname})\"\n",
    "    \n",
    "p1 = Person(\"Aniket\",\"Patil\")\n",
    "print(p1)"
   ]
  },
  {
   "cell_type": "code",
   "execution_count": 19,
   "id": "c090aebb",
   "metadata": {},
   "outputs": [
    {
     "name": "stdout",
     "output_type": "stream",
     "text": [
      "Somnath(Patil)\n"
     ]
    }
   ],
   "source": [
    "p1.fname = \"Somnath\"\n",
    "print(p1)"
   ]
  },
  {
   "cell_type": "code",
   "execution_count": 20,
   "id": "3c12ccfb",
   "metadata": {},
   "outputs": [],
   "source": [
    "del p1.fname"
   ]
  },
  {
   "cell_type": "code",
   "execution_count": 21,
   "id": "a4227031",
   "metadata": {},
   "outputs": [
    {
     "ename": "AttributeError",
     "evalue": "'Person' object has no attribute 'fname'",
     "output_type": "error",
     "traceback": [
      "\u001b[1;31m---------------------------------------------------------------------------\u001b[0m",
      "\u001b[1;31mAttributeError\u001b[0m                            Traceback (most recent call last)",
      "Cell \u001b[1;32mIn[21], line 1\u001b[0m\n\u001b[1;32m----> 1\u001b[0m \u001b[38;5;28;43mprint\u001b[39;49m\u001b[43m(\u001b[49m\u001b[43mp1\u001b[49m\u001b[43m)\u001b[49m\n",
      "Cell \u001b[1;32mIn[18], line 6\u001b[0m, in \u001b[0;36mPerson.__str__\u001b[1;34m(self)\u001b[0m\n\u001b[0;32m      5\u001b[0m \u001b[38;5;28;01mdef\u001b[39;00m \u001b[38;5;21m__str__\u001b[39m(\u001b[38;5;28mself\u001b[39m):\n\u001b[1;32m----> 6\u001b[0m     \u001b[38;5;28;01mreturn\u001b[39;00m \u001b[38;5;124mf\u001b[39m\u001b[38;5;124m\"\u001b[39m\u001b[38;5;132;01m{\u001b[39;00m\u001b[38;5;28mself\u001b[39m\u001b[38;5;241m.\u001b[39mfname\u001b[38;5;132;01m}\u001b[39;00m\u001b[38;5;124m(\u001b[39m\u001b[38;5;132;01m{\u001b[39;00m\u001b[38;5;28mself\u001b[39m\u001b[38;5;241m.\u001b[39mlname\u001b[38;5;132;01m}\u001b[39;00m\u001b[38;5;124m)\u001b[39m\u001b[38;5;124m\"\u001b[39m\n",
      "\u001b[1;31mAttributeError\u001b[0m: 'Person' object has no attribute 'fname'"
     ]
    }
   ],
   "source": [
    "print(p1)"
   ]
  },
  {
   "cell_type": "code",
   "execution_count": 22,
   "id": "85218e79",
   "metadata": {},
   "outputs": [
    {
     "data": {
      "text/plain": [
       "<__main__.Person at 0x19c33a5d570>"
      ]
     },
     "execution_count": 22,
     "metadata": {},
     "output_type": "execute_result"
    }
   ],
   "source": [
    "p1"
   ]
  },
  {
   "cell_type": "code",
   "execution_count": 23,
   "id": "c58c84fb",
   "metadata": {},
   "outputs": [],
   "source": [
    "del p1"
   ]
  },
  {
   "cell_type": "code",
   "execution_count": 24,
   "id": "37fa6dee",
   "metadata": {},
   "outputs": [
    {
     "ename": "NameError",
     "evalue": "name 'p1' is not defined",
     "output_type": "error",
     "traceback": [
      "\u001b[1;31m---------------------------------------------------------------------------\u001b[0m",
      "\u001b[1;31mNameError\u001b[0m                                 Traceback (most recent call last)",
      "Cell \u001b[1;32mIn[24], line 1\u001b[0m\n\u001b[1;32m----> 1\u001b[0m \u001b[43mp1\u001b[49m\n",
      "\u001b[1;31mNameError\u001b[0m: name 'p1' is not defined"
     ]
    }
   ],
   "source": [
    "p1"
   ]
  },
  {
   "cell_type": "code",
   "execution_count": 25,
   "id": "e64be1b1",
   "metadata": {},
   "outputs": [
    {
     "name": "stdout",
     "output_type": "stream",
     "text": [
      "Shrinath piraji\n"
     ]
    }
   ],
   "source": [
    "class person:\n",
    "    def __init__(self,fname,lname):\n",
    "        self.fname = fname\n",
    "        self.lname = lname\n",
    "    def printName(self):\n",
    "        print(self.fname,self.lname)\n",
    "    \n",
    "x = person(\"Shrinath\",\"piraji\")\n",
    "x.printName()"
   ]
  },
  {
   "cell_type": "code",
   "execution_count": 26,
   "id": "5861195b",
   "metadata": {},
   "outputs": [
    {
     "name": "stdout",
     "output_type": "stream",
     "text": [
      "Shrinath piraji\n"
     ]
    }
   ],
   "source": [
    "class person:\n",
    "    def __init__(self,fname,lname):\n",
    "        self.fname = fname\n",
    "        self.lname = lname\n",
    "    def printName(self):\n",
    "        print(self.fname,self.lname)\n",
    "class student(person):\n",
    "    pass\n",
    "    \n",
    "x = student(\"Shrinath\",\"piraji\")\n",
    "x.printName()"
   ]
  },
  {
   "cell_type": "code",
   "execution_count": 32,
   "id": "100f7e2c",
   "metadata": {},
   "outputs": [
    {
     "name": "stdout",
     "output_type": "stream",
     "text": [
      "anmol naik\n",
      "22\n"
     ]
    }
   ],
   "source": [
    "class person:\n",
    "    def __init__(self,fname,lname):\n",
    "        self.fname = fname\n",
    "        self.lname = lname\n",
    "    def printName(self):\n",
    "        print(self.fname,self.lname)\n",
    "\n",
    "class student(person):\n",
    "    def __init__(self,fname,lname,age):\n",
    "        person.__init__(self,fname,lname)   \n",
    "        self.age = age\n",
    "\n",
    "p1 = student(\"anmol\",\"naik\",22)\n",
    "p1.printName()\n",
    "print(p1.age)"
   ]
  },
  {
   "cell_type": "code",
   "execution_count": 34,
   "id": "fb86c48f",
   "metadata": {},
   "outputs": [
    {
     "name": "stdout",
     "output_type": "stream",
     "text": [
      "nitin gore\n",
      "34\n"
     ]
    }
   ],
   "source": [
    "class person:\n",
    "    def __init__(self,fname,lname):\n",
    "        self.fname = fname\n",
    "        self.lname =  lname\n",
    "    def printName(self):\n",
    "        print(self.fname,self.lname)\n",
    "class student(person):\n",
    "    def __init__(self,fname,lname,age):\n",
    "        super().__init__(fname,lname)\n",
    "        self.age = age\n",
    "\n",
    "p1 = student(\"nitin\",\"gore\",34)\n",
    "p1.printName()\n",
    "print(p1.age)"
   ]
  },
  {
   "cell_type": "code",
   "execution_count": 36,
   "id": "85961180",
   "metadata": {},
   "outputs": [
    {
     "name": "stdout",
     "output_type": "stream",
     "text": [
      "nitin gore 34\n"
     ]
    }
   ],
   "source": [
    "class person:\n",
    "    def __init__(self,fname,lname):\n",
    "        self.fname = fname\n",
    "        self.lname =  lname\n",
    "   \n",
    "class student(person):\n",
    "    def __init__(self,fname,lname,age):\n",
    "        super().__init__(fname,lname)\n",
    "        self.age = age\n",
    "    def printName(self):\n",
    "        print(self.fname,self.lname,self.age)\n",
    "\n",
    "p1 = student(\"nitin\",\"gore\",34)\n",
    "p1.printName()\n"
   ]
  },
  {
   "cell_type": "code",
   "execution_count": 39,
   "id": "cd762abd",
   "metadata": {},
   "outputs": [
    {
     "name": "stdout",
     "output_type": "stream",
     "text": [
      "nitin gore 34\n",
      "anil mule 35\n",
      "Santalal Patel 37\n"
     ]
    }
   ],
   "source": [
    "class person:\n",
    "    def __init__(self,fname,lname):\n",
    "        self.fname = fname\n",
    "        self.lname =  lname\n",
    "   \n",
    "class student(person):\n",
    "    def __init__(self,fname,lname,age):\n",
    "        super().__init__(fname,lname)\n",
    "        self.age = age\n",
    "    def printName(self):\n",
    "        print(self.fname,self.lname,self.age)\n",
    "\n",
    "p1 = student(\"nitin\",\"gore\",34)\n",
    "p2 = student(\"anil\",\"mule\",35)\n",
    "p3 = student(\"Santalal\",\"Patel\",37)\n",
    "\n",
    "for x in (p1,p2,p3):\n",
    "    x.printName()\n",
    "    \n"
   ]
  },
  {
   "cell_type": "code",
   "execution_count": 41,
   "id": "9ce42b27",
   "metadata": {},
   "outputs": [
    {
     "name": "stdout",
     "output_type": "stream",
     "text": [
      "Tata Nexon\n",
      "move!\n",
      "Ibiza Touring 20\n",
      "sail!\n",
      "Boeing 747\n",
      "fly\n"
     ]
    }
   ],
   "source": [
    "# Polymorphism\n",
    "class vehical:\n",
    "    def __init__(self,brand,model):\n",
    "        self.brand = brand\n",
    "        self.model = model\n",
    "    def move(self):\n",
    "        print(\"move!\")\n",
    "class car(vehical):\n",
    "    pass\n",
    "\n",
    "class Boat(vehical):\n",
    "    def move(self):\n",
    "        print(\"sail!\")\n",
    "        \n",
    "class Plane(vehical):\n",
    "    def move(self):\n",
    "        print(\"fly!\")\n",
    "        \n",
    "c1 = car(\"Tata\",\"Nexon\")\n",
    "b1 = Boat(\"Ibiza\",\"Touring 20\")\n",
    "p1 = Plane(\"Boeing\",\"747\")\n",
    "\n",
    "for x in (c1,b1,p1):\n",
    "    print(x.brand,x.model)\n",
    "    #print(x.model)\n",
    "    x.move()"
   ]
  },
  {
   "cell_type": "code",
   "execution_count": null,
   "id": "80da0b1a",
   "metadata": {},
   "outputs": [],
   "source": []
  }
 ],
 "metadata": {
  "kernelspec": {
   "display_name": "Python 3 (ipykernel)",
   "language": "python",
   "name": "python3"
  },
  "language_info": {
   "codemirror_mode": {
    "name": "ipython",
    "version": 3
   },
   "file_extension": ".py",
   "mimetype": "text/x-python",
   "name": "python",
   "nbconvert_exporter": "python",
   "pygments_lexer": "ipython3",
   "version": "3.10.9"
  }
 },
 "nbformat": 4,
 "nbformat_minor": 5
}
