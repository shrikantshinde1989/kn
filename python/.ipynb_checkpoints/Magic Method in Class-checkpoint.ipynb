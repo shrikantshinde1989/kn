{
 "cells": [
  {
   "cell_type": "markdown",
   "id": "a92aecc7",
   "metadata": {},
   "source": [
    "## Magic Method in Class"
   ]
  },
  {
   "cell_type": "code",
   "execution_count": 36,
   "id": "cee54878",
   "metadata": {},
   "outputs": [],
   "source": [
    "\n",
    "class Car:\n",
    "    def __new__(self,windows,doors,enginType):\n",
    "        print(\"The object has started getting initialized before __init__() method \")\n",
    "    def __init__(self,windows,doors,enginType):\n",
    "        self.windows = windows\n",
    "        self.doors = doors\n",
    "        self.enginType = enginType\n",
    "    def __str__(self):\n",
    "        return \"The object has been initialized\"\n",
    "    def __sizeof__(self):\n",
    "        return \"The size of object is {} \"\n",
    "    def drive(self):\n",
    "        print(\"The person dirves the car\")"
   ]
  },
  {
   "cell_type": "code",
   "execution_count": 37,
   "id": "c1a1da32",
   "metadata": {},
   "outputs": [
    {
     "name": "stdout",
     "output_type": "stream",
     "text": [
      "The object has started getting initialized before __init__() method \n"
     ]
    }
   ],
   "source": [
    "c = Car(4,5,'Diesel')"
   ]
  },
  {
   "cell_type": "code",
   "execution_count": 33,
   "id": "78435c19",
   "metadata": {},
   "outputs": [
    {
     "data": {
      "text/plain": [
       "<__main__.Car at 0x1575e15dff0>"
      ]
     },
     "execution_count": 33,
     "metadata": {},
     "output_type": "execute_result"
    }
   ],
   "source": [
    "c"
   ]
  },
  {
   "cell_type": "code",
   "execution_count": 34,
   "id": "15eb19ad",
   "metadata": {},
   "outputs": [
    {
     "data": {
      "text/plain": [
       "'The size of object is {} '"
      ]
     },
     "execution_count": 34,
     "metadata": {},
     "output_type": "execute_result"
    }
   ],
   "source": [
    "c.__sizeof__()"
   ]
  },
  {
   "cell_type": "code",
   "execution_count": 30,
   "id": "ad8f6749",
   "metadata": {},
   "outputs": [
    {
     "name": "stdout",
     "output_type": "stream",
     "text": [
      "The object has been initialized\n"
     ]
    }
   ],
   "source": [
    "print(c)"
   ]
  },
  {
   "cell_type": "code",
   "execution_count": 2,
   "id": "9a778e8f",
   "metadata": {},
   "outputs": [
    {
     "data": {
      "text/plain": [
       "['__class__',\n",
       " '__delattr__',\n",
       " '__dict__',\n",
       " '__dir__',\n",
       " '__doc__',\n",
       " '__eq__',\n",
       " '__format__',\n",
       " '__ge__',\n",
       " '__getattribute__',\n",
       " '__gt__',\n",
       " '__hash__',\n",
       " '__init__',\n",
       " '__init_subclass__',\n",
       " '__le__',\n",
       " '__lt__',\n",
       " '__module__',\n",
       " '__ne__',\n",
       " '__new__',\n",
       " '__reduce__',\n",
       " '__reduce_ex__',\n",
       " '__repr__',\n",
       " '__setattr__',\n",
       " '__sizeof__',\n",
       " '__str__',\n",
       " '__subclasshook__',\n",
       " '__weakref__',\n",
       " 'drive']"
      ]
     },
     "execution_count": 2,
     "metadata": {},
     "output_type": "execute_result"
    }
   ],
   "source": [
    "dir(Car)"
   ]
  },
  {
   "cell_type": "code",
   "execution_count": null,
   "id": "c23aa053",
   "metadata": {},
   "outputs": [],
   "source": []
  }
 ],
 "metadata": {
  "kernelspec": {
   "display_name": "Python 3 (ipykernel)",
   "language": "python",
   "name": "python3"
  },
  "language_info": {
   "codemirror_mode": {
    "name": "ipython",
    "version": 3
   },
   "file_extension": ".py",
   "mimetype": "text/x-python",
   "name": "python",
   "nbconvert_exporter": "python",
   "pygments_lexer": "ipython3",
   "version": "3.10.9"
  }
 },
 "nbformat": 4,
 "nbformat_minor": 5
}
