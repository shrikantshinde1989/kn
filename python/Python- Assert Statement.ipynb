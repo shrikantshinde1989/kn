{
 "cells": [
  {
   "cell_type": "markdown",
   "id": "97d15eab",
   "metadata": {},
   "source": [
    "### Python Assert Statement\n",
    "- Python provides the assert statment to check if a given logical expression is true or false.\n",
    "- Program execution proceeds only if the expression is true and raises the AssertionError when it is false.\n"
   ]
  },
  {
   "cell_type": "code",
   "execution_count": 1,
   "id": "fdfe2f33",
   "metadata": {},
   "outputs": [
    {
     "data": {
      "text/plain": [
       "False"
      ]
     },
     "execution_count": 1,
     "metadata": {},
     "output_type": "execute_result"
    }
   ],
   "source": [
    "# logical Expression as above\n",
    "10<10"
   ]
  },
  {
   "cell_type": "code",
   "execution_count": 2,
   "id": "914fb032",
   "metadata": {},
   "outputs": [
    {
     "data": {
      "text/plain": [
       "True"
      ]
     },
     "execution_count": 2,
     "metadata": {},
     "output_type": "execute_result"
    }
   ],
   "source": [
    "10<=10"
   ]
  },
  {
   "cell_type": "code",
   "execution_count": 3,
   "id": "1f91bffa",
   "metadata": {},
   "outputs": [],
   "source": [
    "# Assertion with no error\n",
    "num = 10\n",
    "assert num>=10"
   ]
  },
  {
   "cell_type": "code",
   "execution_count": 5,
   "id": "e99042a7",
   "metadata": {},
   "outputs": [
    {
     "ename": "AssertionError",
     "evalue": "",
     "output_type": "error",
     "traceback": [
      "\u001b[1;31m---------------------------------------------------------------------------\u001b[0m",
      "\u001b[1;31mAssertionError\u001b[0m                            Traceback (most recent call last)",
      "Cell \u001b[1;32mIn[5], line 3\u001b[0m\n\u001b[0;32m      1\u001b[0m \u001b[38;5;66;03m# Assertion with error\u001b[39;00m\n\u001b[0;32m      2\u001b[0m num\u001b[38;5;241m=\u001b[39m\u001b[38;5;241m10\u001b[39m\n\u001b[1;32m----> 3\u001b[0m \u001b[38;5;28;01massert\u001b[39;00m num\u001b[38;5;241m>\u001b[39m\u001b[38;5;241m10\u001b[39m\n",
      "\u001b[1;31mAssertionError\u001b[0m: "
     ]
    }
   ],
   "source": [
    "# Assertion with error\n",
    "num=10\n",
    "assert num>10"
   ]
  },
  {
   "cell_type": "code",
   "execution_count": 7,
   "id": "0f371130",
   "metadata": {},
   "outputs": [
    {
     "name": "stdout",
     "output_type": "stream",
     "text": [
      "Please Enter the number:-33\n",
      "Please Enter the Even number Only\n"
     ]
    }
   ],
   "source": [
    "# AssertionError in Exception Handling to handle logical expression exception or error\n",
    "\n",
    "try:\n",
    "    num=int(input(\"Please Enter the number:-\"))\n",
    "    assert num%2==0\n",
    "    print(\"The number is even\")\n",
    "    \n",
    "except AssertionError:\n",
    "    print(\"Please Enter the Even number Only\")"
   ]
  },
  {
   "cell_type": "code",
   "execution_count": null,
   "id": "8bb0ce4c",
   "metadata": {},
   "outputs": [],
   "source": []
  }
 ],
 "metadata": {
  "kernelspec": {
   "display_name": "Python 3 (ipykernel)",
   "language": "python",
   "name": "python3"
  },
  "language_info": {
   "codemirror_mode": {
    "name": "ipython",
    "version": 3
   },
   "file_extension": ".py",
   "mimetype": "text/x-python",
   "name": "python",
   "nbconvert_exporter": "python",
   "pygments_lexer": "ipython3",
   "version": "3.10.9"
  }
 },
 "nbformat": 4,
 "nbformat_minor": 5
}
