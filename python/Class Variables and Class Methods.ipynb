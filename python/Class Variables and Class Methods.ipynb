{
 "cells": [
  {
   "cell_type": "markdown",
   "id": "e3291dfe",
   "metadata": {},
   "source": [
    "### Class variables and Class Methods"
   ]
  },
  {
   "cell_type": "code",
   "execution_count": 8,
   "id": "3d026cca",
   "metadata": {},
   "outputs": [],
   "source": [
    "class Car:\n",
    "    base_price = 100000## class variable\n",
    "    def __init__(self,windows,doors,power):\n",
    "        self.windows = windows #instance variable\n",
    "        self.doors = doors\n",
    "        self.power = power\n",
    "    def what_base_price(self):\n",
    "        print(\"The base price is {}\".format(self.best_price))"
   ]
  },
  {
   "cell_type": "code",
   "execution_count": 9,
   "id": "c381b4e9",
   "metadata": {},
   "outputs": [
    {
     "data": {
      "text/plain": [
       "100000"
      ]
     },
     "execution_count": 9,
     "metadata": {},
     "output_type": "execute_result"
    }
   ],
   "source": [
    "# to access class variable by two way\n",
    "# first way by instance or object of class as below\n",
    "car1 = Car(2,3,2000)\n",
    "car1.base_price"
   ]
  },
  {
   "cell_type": "code",
   "execution_count": 10,
   "id": "06c93a0d",
   "metadata": {},
   "outputs": [
    {
     "data": {
      "text/plain": [
       "100000"
      ]
     },
     "execution_count": 10,
     "metadata": {},
     "output_type": "execute_result"
    }
   ],
   "source": [
    "#Second Way by Class name\n",
    "Car.base_price\n"
   ]
  },
  {
   "cell_type": "code",
   "execution_count": 16,
   "id": "0a5e370c",
   "metadata": {},
   "outputs": [],
   "source": [
    "# Create class method\n",
    "\n",
    "class Car:\n",
    "    base_price = 100000 ## class variable\n",
    "    def __init__(self,windows,doors,power):\n",
    "        self.windows = windows\n",
    "        self.doors = doors\n",
    "        self.power = power\n",
    "    def what_base_price(self):\n",
    "        print(\"The car base price is {} \".format(self.base_price))\n",
    "    @classmethod\n",
    "    def revise_base_price(cls,inflation):\n",
    "        cls.base_price=cls.base_price+cls.base_price*inflation"
   ]
  },
  {
   "cell_type": "code",
   "execution_count": 17,
   "id": "0bee2b18",
   "metadata": {},
   "outputs": [],
   "source": [
    "c = Car(4,5,3000)"
   ]
  },
  {
   "cell_type": "code",
   "execution_count": 18,
   "id": "ce8fd5ce",
   "metadata": {},
   "outputs": [
    {
     "data": {
      "text/plain": [
       "100000"
      ]
     },
     "execution_count": 18,
     "metadata": {},
     "output_type": "execute_result"
    }
   ],
   "source": [
    "c.base_price"
   ]
  },
  {
   "cell_type": "code",
   "execution_count": 21,
   "id": "796bf3d9",
   "metadata": {},
   "outputs": [],
   "source": [
    "# To change base price of car always used Classname.ClassMethod()\n",
    "Car.revise_base_price(0.10)"
   ]
  },
  {
   "cell_type": "code",
   "execution_count": 22,
   "id": "d9255e19",
   "metadata": {},
   "outputs": [
    {
     "data": {
      "text/plain": [
       "121000.0"
      ]
     },
     "execution_count": 22,
     "metadata": {},
     "output_type": "execute_result"
    }
   ],
   "source": [
    "Car.base_price"
   ]
  },
  {
   "cell_type": "code",
   "execution_count": null,
   "id": "6afab040",
   "metadata": {},
   "outputs": [],
   "source": []
  }
 ],
 "metadata": {
  "kernelspec": {
   "display_name": "Python 3 (ipykernel)",
   "language": "python",
   "name": "python3"
  },
  "language_info": {
   "codemirror_mode": {
    "name": "ipython",
    "version": 3
   },
   "file_extension": ".py",
   "mimetype": "text/x-python",
   "name": "python",
   "nbconvert_exporter": "python",
   "pygments_lexer": "ipython3",
   "version": "3.10.9"
  }
 },
 "nbformat": 4,
 "nbformat_minor": 5
}
