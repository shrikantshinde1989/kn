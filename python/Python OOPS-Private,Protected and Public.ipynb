{
 "cells": [
  {
   "cell_type": "markdown",
   "id": "d472378c",
   "metadata": {},
   "source": [
    "### Public ,Private and Protected"
   ]
  },
  {
   "cell_type": "code",
   "execution_count": 1,
   "id": "99a7c09c",
   "metadata": {},
   "outputs": [],
   "source": [
    "# All the class varibles are public\n",
    "class Car:\n",
    "    def __init__(self,windows,doors,engineType):\n",
    "        self.windows=windows\n",
    "        self.doors=doors\n",
    "        self.engineType=engineType"
   ]
  },
  {
   "cell_type": "code",
   "execution_count": 2,
   "id": "821c6bd1",
   "metadata": {},
   "outputs": [],
   "source": [
    "audi = Car(4,5,'Diesel')"
   ]
  },
  {
   "cell_type": "code",
   "execution_count": 3,
   "id": "e316c5bd",
   "metadata": {},
   "outputs": [
    {
     "data": {
      "text/plain": [
       "5"
      ]
     },
     "execution_count": 3,
     "metadata": {},
     "output_type": "execute_result"
    }
   ],
   "source": [
    "audi.doors"
   ]
  },
  {
   "cell_type": "code",
   "execution_count": 4,
   "id": "9204ed37",
   "metadata": {},
   "outputs": [],
   "source": [
    "# we can overwrite on instance variable\n",
    "audi.doors=6"
   ]
  },
  {
   "cell_type": "code",
   "execution_count": 5,
   "id": "402d3799",
   "metadata": {},
   "outputs": [
    {
     "data": {
      "text/plain": [
       "6"
      ]
     },
     "execution_count": 5,
     "metadata": {},
     "output_type": "execute_result"
    }
   ],
   "source": [
    "audi.doors"
   ]
  },
  {
   "cell_type": "code",
   "execution_count": 6,
   "id": "846de60c",
   "metadata": {},
   "outputs": [],
   "source": [
    "#All the class variables are protected\n",
    "\n",
    "class Car:\n",
    "    def __init__(self,windows,doors,engineType):\n",
    "        self._windows = windows\n",
    "        self._doors = doors\n",
    "        self._engineType = engineType"
   ]
  },
  {
   "cell_type": "code",
   "execution_count": 7,
   "id": "6ed99c50",
   "metadata": {},
   "outputs": [],
   "source": [
    "audi1 = Car(2,3,'Petrol')"
   ]
  },
  {
   "cell_type": "code",
   "execution_count": 8,
   "id": "2f20dec4",
   "metadata": {},
   "outputs": [
    {
     "ename": "AttributeError",
     "evalue": "'Car' object has no attribute 'doors'",
     "output_type": "error",
     "traceback": [
      "\u001b[1;31m---------------------------------------------------------------------------\u001b[0m",
      "\u001b[1;31mAttributeError\u001b[0m                            Traceback (most recent call last)",
      "Cell \u001b[1;32mIn[8], line 1\u001b[0m\n\u001b[1;32m----> 1\u001b[0m \u001b[43maudi1\u001b[49m\u001b[38;5;241;43m.\u001b[39;49m\u001b[43mdoors\u001b[49m\n",
      "\u001b[1;31mAttributeError\u001b[0m: 'Car' object has no attribute 'doors'"
     ]
    }
   ],
   "source": [
    "audi1.doors"
   ]
  },
  {
   "cell_type": "code",
   "execution_count": 9,
   "id": "6c28f13c",
   "metadata": {},
   "outputs": [
    {
     "data": {
      "text/plain": [
       "['__class__',\n",
       " '__delattr__',\n",
       " '__dict__',\n",
       " '__dir__',\n",
       " '__doc__',\n",
       " '__eq__',\n",
       " '__format__',\n",
       " '__ge__',\n",
       " '__getattribute__',\n",
       " '__gt__',\n",
       " '__hash__',\n",
       " '__init__',\n",
       " '__init_subclass__',\n",
       " '__le__',\n",
       " '__lt__',\n",
       " '__module__',\n",
       " '__ne__',\n",
       " '__new__',\n",
       " '__reduce__',\n",
       " '__reduce_ex__',\n",
       " '__repr__',\n",
       " '__setattr__',\n",
       " '__sizeof__',\n",
       " '__str__',\n",
       " '__subclasshook__',\n",
       " '__weakref__',\n",
       " '_doors',\n",
       " '_engineType',\n",
       " '_windows']"
      ]
     },
     "execution_count": 9,
     "metadata": {},
     "output_type": "execute_result"
    }
   ],
   "source": [
    "dir(audi1)"
   ]
  },
  {
   "cell_type": "code",
   "execution_count": 10,
   "id": "06b6dce2",
   "metadata": {},
   "outputs": [],
   "source": [
    "class Truck(Car):\n",
    "    def __init__(self,windows,doors,engineType,power):\n",
    "        super().__init__(windows,doors,engineType)\n",
    "        self.power = power"
   ]
  },
  {
   "cell_type": "code",
   "execution_count": 13,
   "id": "d4b60bad",
   "metadata": {},
   "outputs": [],
   "source": [
    "truck = Truck(4,4,\"Diesel\",4000)"
   ]
  },
  {
   "cell_type": "code",
   "execution_count": 17,
   "id": "1a113e53",
   "metadata": {},
   "outputs": [
    {
     "data": {
      "text/plain": [
       "<__main__.Truck at 0x2033b9cf850>"
      ]
     },
     "execution_count": 17,
     "metadata": {},
     "output_type": "execute_result"
    }
   ],
   "source": [
    "truck"
   ]
  },
  {
   "cell_type": "code",
   "execution_count": 18,
   "id": "1a369774",
   "metadata": {},
   "outputs": [
    {
     "data": {
      "text/plain": [
       "['__class__',\n",
       " '__delattr__',\n",
       " '__dict__',\n",
       " '__dir__',\n",
       " '__doc__',\n",
       " '__eq__',\n",
       " '__format__',\n",
       " '__ge__',\n",
       " '__getattribute__',\n",
       " '__gt__',\n",
       " '__hash__',\n",
       " '__init__',\n",
       " '__init_subclass__',\n",
       " '__le__',\n",
       " '__lt__',\n",
       " '__module__',\n",
       " '__ne__',\n",
       " '__new__',\n",
       " '__reduce__',\n",
       " '__reduce_ex__',\n",
       " '__repr__',\n",
       " '__setattr__',\n",
       " '__sizeof__',\n",
       " '__str__',\n",
       " '__subclasshook__',\n",
       " '__weakref__',\n",
       " '_doors',\n",
       " '_engineType',\n",
       " '_windows',\n",
       " 'power']"
      ]
     },
     "execution_count": 18,
     "metadata": {},
     "output_type": "execute_result"
    }
   ],
   "source": [
    "dir(truck)"
   ]
  },
  {
   "cell_type": "code",
   "execution_count": 21,
   "id": "cb55614f",
   "metadata": {},
   "outputs": [],
   "source": [
    "truck.power=2000"
   ]
  },
  {
   "cell_type": "code",
   "execution_count": 23,
   "id": "1b9d1f1d",
   "metadata": {},
   "outputs": [
    {
     "data": {
      "text/plain": [
       "2000"
      ]
     },
     "execution_count": 23,
     "metadata": {},
     "output_type": "execute_result"
    }
   ],
   "source": [
    "truck.power"
   ]
  },
  {
   "cell_type": "code",
   "execution_count": 25,
   "id": "6faba795",
   "metadata": {},
   "outputs": [],
   "source": [
    "truck._doors=2"
   ]
  },
  {
   "cell_type": "code",
   "execution_count": 27,
   "id": "77abc8f9",
   "metadata": {},
   "outputs": [
    {
     "data": {
      "text/plain": [
       "2"
      ]
     },
     "execution_count": 27,
     "metadata": {},
     "output_type": "execute_result"
    }
   ],
   "source": [
    "truck._doors"
   ]
  },
  {
   "cell_type": "code",
   "execution_count": 30,
   "id": "9ba2498f",
   "metadata": {},
   "outputs": [],
   "source": [
    "# All the variables are private\n",
    "\n",
    "class Car:\n",
    "    def __init__(self,windows,doors,engineType):\n",
    "        self.__windows = windows\n",
    "        self.__doors = doors\n",
    "        self.__engineType = engineType"
   ]
  },
  {
   "cell_type": "code",
   "execution_count": 31,
   "id": "8bb126d4",
   "metadata": {},
   "outputs": [],
   "source": [
    "audi2 = Car(4,4,'Diesel')"
   ]
  },
  {
   "cell_type": "code",
   "execution_count": 32,
   "id": "119e3231",
   "metadata": {},
   "outputs": [
    {
     "data": {
      "text/plain": [
       "<__main__.Car at 0x2033b9cf5b0>"
      ]
     },
     "execution_count": 32,
     "metadata": {},
     "output_type": "execute_result"
    }
   ],
   "source": [
    "audi2"
   ]
  },
  {
   "cell_type": "code",
   "execution_count": 34,
   "id": "5ef72f74",
   "metadata": {},
   "outputs": [
    {
     "data": {
      "text/plain": [
       "['_Car__doors',\n",
       " '_Car__engineType',\n",
       " '_Car__windows',\n",
       " '__class__',\n",
       " '__delattr__',\n",
       " '__dict__',\n",
       " '__dir__',\n",
       " '__doc__',\n",
       " '__eq__',\n",
       " '__format__',\n",
       " '__ge__',\n",
       " '__getattribute__',\n",
       " '__gt__',\n",
       " '__hash__',\n",
       " '__init__',\n",
       " '__init_subclass__',\n",
       " '__le__',\n",
       " '__lt__',\n",
       " '__module__',\n",
       " '__ne__',\n",
       " '__new__',\n",
       " '__reduce__',\n",
       " '__reduce_ex__',\n",
       " '__repr__',\n",
       " '__setattr__',\n",
       " '__sizeof__',\n",
       " '__str__',\n",
       " '__subclasshook__',\n",
       " '__weakref__']"
      ]
     },
     "execution_count": 34,
     "metadata": {},
     "output_type": "execute_result"
    }
   ],
   "source": [
    "dir(audi2)"
   ]
  },
  {
   "cell_type": "raw",
   "id": "1e7ede54",
   "metadata": {},
   "source": [
    "audi2._Car__doors"
   ]
  }
 ],
 "metadata": {
  "kernelspec": {
   "display_name": "Python 3 (ipykernel)",
   "language": "python",
   "name": "python3"
  },
  "language_info": {
   "codemirror_mode": {
    "name": "ipython",
    "version": 3
   },
   "file_extension": ".py",
   "mimetype": "text/x-python",
   "name": "python",
   "nbconvert_exporter": "python",
   "pygments_lexer": "ipython3",
   "version": "3.10.9"
  }
 },
 "nbformat": 4,
 "nbformat_minor": 5
}
