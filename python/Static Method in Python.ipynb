{
 "cells": [
  {
   "cell_type": "markdown",
   "id": "bbf52c7c",
   "metadata": {},
   "source": [
    "### Static Method in Python\n",
    "- In static method do not provide any instance(self) or any class variable(cls)\n",
    "- If your program contain static method before object creation static method first instantiated"
   ]
  },
  {
   "cell_type": "code",
   "execution_count": 1,
   "id": "0381f101",
   "metadata": {},
   "outputs": [],
   "source": [
    "import datetime\n",
    "now = datetime.datetime.now()"
   ]
  },
  {
   "cell_type": "code",
   "execution_count": 7,
   "id": "665400b6",
   "metadata": {},
   "outputs": [],
   "source": [
    "class Car:\n",
    "    base_price = 100000##class variable\n",
    "    def __init__(self,windows,doors,power):\n",
    "        self.windows = windows\n",
    "        self.doors = doors\n",
    "        self.power = power\n",
    "    def what_bse_price(self):\n",
    "        print(\"The base price is {} \".format(self.base_price))\n",
    "    @classmethod\n",
    "    def revise_base_price(cls,inflation):\n",
    "        cls.base_price = cls.base_price+cls.base_price*inflation\n",
    "    @staticmethod\n",
    "    def check_year():\n",
    "        if now.year==2021:\n",
    "            return True\n",
    "        else:\n",
    "            return False"
   ]
  },
  {
   "cell_type": "code",
   "execution_count": 8,
   "id": "8ea969bf",
   "metadata": {},
   "outputs": [
    {
     "data": {
      "text/plain": [
       "False"
      ]
     },
     "execution_count": 8,
     "metadata": {},
     "output_type": "execute_result"
    }
   ],
   "source": [
    "Car.check_year()"
   ]
  },
  {
   "cell_type": "code",
   "execution_count": 9,
   "id": "2744f6b5",
   "metadata": {},
   "outputs": [],
   "source": [
    "car1 = Car(2,3,3000)"
   ]
  },
  {
   "cell_type": "code",
   "execution_count": 10,
   "id": "2dd7dd6a",
   "metadata": {},
   "outputs": [
    {
     "data": {
      "text/plain": [
       "100000"
      ]
     },
     "execution_count": 10,
     "metadata": {},
     "output_type": "execute_result"
    }
   ],
   "source": [
    "car1.base_price"
   ]
  },
  {
   "cell_type": "code",
   "execution_count": 13,
   "id": "080a81ee",
   "metadata": {},
   "outputs": [],
   "source": [
    "if(Car.check_year()==False):\n",
    "    Car.revise_base_price(0.10)\n",
    "else:\n",
    "    pass"
   ]
  },
  {
   "cell_type": "code",
   "execution_count": 14,
   "id": "b8816bb5",
   "metadata": {},
   "outputs": [],
   "source": [
    "car2 = Car(4,5,2000)"
   ]
  },
  {
   "cell_type": "code",
   "execution_count": 15,
   "id": "1cc83dee",
   "metadata": {},
   "outputs": [
    {
     "data": {
      "text/plain": [
       "110000.0"
      ]
     },
     "execution_count": 15,
     "metadata": {},
     "output_type": "execute_result"
    }
   ],
   "source": [
    "car2.base_price"
   ]
  },
  {
   "cell_type": "code",
   "execution_count": null,
   "id": "78ffa58b",
   "metadata": {},
   "outputs": [],
   "source": []
  }
 ],
 "metadata": {
  "kernelspec": {
   "display_name": "Python 3 (ipykernel)",
   "language": "python",
   "name": "python3"
  },
  "language_info": {
   "codemirror_mode": {
    "name": "ipython",
    "version": 3
   },
   "file_extension": ".py",
   "mimetype": "text/x-python",
   "name": "python",
   "nbconvert_exporter": "python",
   "pygments_lexer": "ipython3",
   "version": "3.10.9"
  }
 },
 "nbformat": 4,
 "nbformat_minor": 5
}
