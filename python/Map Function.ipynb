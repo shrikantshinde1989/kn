{
 "cells": [
  {
   "cell_type": "markdown",
   "id": "d183743c",
   "metadata": {},
   "source": [
    "### Map Function in Python"
   ]
  },
  {
   "cell_type": "code",
   "execution_count": 4,
   "id": "87ad7843",
   "metadata": {},
   "outputs": [],
   "source": [
    "def even_or_odd(num):\n",
    "    if num%2 == 0:\n",
    "        return \"The number {} is even\".format(num)\n",
    "    else:\n",
    "        return \"The number {} is odd\".format(num)"
   ]
  },
  {
   "cell_type": "code",
   "execution_count": 5,
   "id": "71ba9340",
   "metadata": {},
   "outputs": [
    {
     "data": {
      "text/plain": [
       "'The number 34 is even'"
      ]
     },
     "execution_count": 5,
     "metadata": {},
     "output_type": "execute_result"
    }
   ],
   "source": [
    "even_or_odd(34)"
   ]
  },
  {
   "cell_type": "code",
   "execution_count": 6,
   "id": "a5870e11",
   "metadata": {},
   "outputs": [],
   "source": [
    "lst = [1,2,3,4,5,6,7,8,9,12,45,78,23,45,88,90,77]"
   ]
  },
  {
   "cell_type": "code",
   "execution_count": 10,
   "id": "4d6c0eb9",
   "metadata": {},
   "outputs": [
    {
     "data": {
      "text/plain": [
       "<map at 0x28a8ed99630>"
      ]
     },
     "execution_count": 10,
     "metadata": {},
     "output_type": "execute_result"
    }
   ],
   "source": [
    "map(even_or_odd,lst)"
   ]
  },
  {
   "cell_type": "code",
   "execution_count": 12,
   "id": "293c6af1",
   "metadata": {},
   "outputs": [],
   "source": [
    "# above output show that map object is created at 0x28a8ed99630 memory location address\n",
    "# this is using lazy-loading technique and memory has not instiantiated by map so convert into list"
   ]
  },
  {
   "cell_type": "code",
   "execution_count": 14,
   "id": "e0ad7a3d",
   "metadata": {},
   "outputs": [
    {
     "data": {
      "text/plain": [
       "['The number 1 is odd',\n",
       " 'The number 2 is even',\n",
       " 'The number 3 is odd',\n",
       " 'The number 4 is even',\n",
       " 'The number 5 is odd',\n",
       " 'The number 6 is even',\n",
       " 'The number 7 is odd',\n",
       " 'The number 8 is even',\n",
       " 'The number 9 is odd',\n",
       " 'The number 12 is even',\n",
       " 'The number 45 is odd',\n",
       " 'The number 78 is even',\n",
       " 'The number 23 is odd',\n",
       " 'The number 45 is odd',\n",
       " 'The number 88 is even',\n",
       " 'The number 90 is even',\n",
       " 'The number 77 is odd']"
      ]
     },
     "execution_count": 14,
     "metadata": {},
     "output_type": "execute_result"
    }
   ],
   "source": [
    "list(map(even_or_odd,lst))"
   ]
  }
 ],
 "metadata": {
  "kernelspec": {
   "display_name": "Python 3 (ipykernel)",
   "language": "python",
   "name": "python3"
  },
  "language_info": {
   "codemirror_mode": {
    "name": "ipython",
    "version": 3
   },
   "file_extension": ".py",
   "mimetype": "text/x-python",
   "name": "python",
   "nbconvert_exporter": "python",
   "pygments_lexer": "ipython3",
   "version": "3.10.9"
  }
 },
 "nbformat": 4,
 "nbformat_minor": 5
}
